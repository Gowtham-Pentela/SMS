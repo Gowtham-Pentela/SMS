{
  "nbformat": 4,
  "nbformat_minor": 0,
  "metadata": {
    "colab": {
      "provenance": []
    },
    "kernelspec": {
      "name": "python3",
      "display_name": "Python 3"
    },
    "language_info": {
      "name": "python"
    }
  },
  "cells": [
    {
      "cell_type": "code",
      "source": [
        "!pip install pytube\n",
        "!pip install pydub"
      ],
      "metadata": {
        "id": "bLxLGfsrJN4E"
      },
      "execution_count": null,
      "outputs": []
    },
    {
      "cell_type": "code",
      "source": [
        "from pytube import YouTube\n",
        "from pydub import AudioSegment\n",
        "import os\n",
        "import wave\n",
        "import numpy as np\n",
        "import matplotlib.pyplot as plt\n",
        "from scipy.signal import find_peaks\n"
      ],
      "metadata": {
        "id": "NgzxqcBUsP5c"
      },
      "execution_count": 3,
      "outputs": []
    },
    {
      "cell_type": "code",
      "source": [
        "destination = \"/content/Movies/\"\n",
        "# link of the video to be downloaded\n",
        "# Replace with the Youtube video link you want to download.\n",
        "video_link = \"https://youtu.be/Wl8WpCkpSuA\"\n",
        "\n",
        "try:\n",
        "    video = YouTube(video_link)\n",
        "    \n",
        "    audio = video.streams.filter(only_audio=True, file_extension='mp4').first()\n",
        "    input=audio.download()\n",
        "    wav_audio_file = \"Beyond the Line.wav\"\n",
        "\n",
        "# Load the MP4 audio file\n",
        "    audio = AudioSegment.from_file(input, format=\"mp4\")\n",
        "\n",
        "# Export the audio file as WAV format\n",
        "    audio.export(wav_audio_file, format=\"wav\")\n",
        "    os.remove(input)\n",
        "    \n",
        "    print('Download Completed!')\n",
        "\n",
        "except:\n",
        "    print(\"Connection Error\")  # to handle exception"
      ],
      "metadata": {
        "colab": {
          "base_uri": "https://localhost:8080/"
        },
        "id": "ocS86QC0kt2y",
        "outputId": "5deafaad-066a-4986-f5b8-1f4f32ec55c1"
      },
      "execution_count": null,
      "outputs": [
        {
          "output_type": "stream",
          "name": "stdout",
          "text": [
            "Download Completed!\n"
          ]
        }
      ]
    },
    {
      "cell_type": "code",
      "source": [
        "input_file=\"Beyond the Line.wav\"\n",
        "if input_file[-3:]=='mp3':\n",
        "  sound = AudioSegment.from_mp3(input_file)\n",
        "  inputfile=sound.export(input_file[:-3]+\"wav\", format=\"wav\")\n",
        "elif input_file[-3:]=='wav':\n",
        "  inputfile=input_file\n",
        "\n",
        "wav_obj = wave.open(inputfile, 'rb')\n",
        "sample_freq = wav_obj.getframerate()\n",
        "n_samples = wav_obj.getnframes()\n",
        "t_audio = n_samples / sample_freq\n",
        "signal_wave = wav_obj.readframes(n_samples)\n",
        "signal_array = np.frombuffer(signal_wave, dtype=np.int16)\n",
        "l_channel = signal_array[0::2]\n",
        "times = np.linspace(0, n_samples / sample_freq, num=n_samples)\n",
        "\n",
        "\n",
        "\n",
        "# Find local maxima of left channel signal\n",
        "peaks, _ = find_peaks(l_channel, prominence=1000, distance=50000)\n",
        "\n",
        "# Plot left channel signal with local maxima\n",
        "plt.figure(figsize=(25, 5))\n",
        "plt.plot(times, l_channel)\n",
        "plt.plot(times[peaks], l_channel[peaks], 'ro')\n",
        "plt.title('Left Channel of Gunshot (1/20) X with Local Maxima')\n",
        "plt.ylabel('Signal Value')\n",
        "plt.xlabel('Time (s)')\n",
        "plt.xlim(0, t_audio)\n",
        "#plt.savefig('Gunshot.png')\n",
        "plt.show()\n",
        "\n",
        "plt.figure(figsize=(15, 5))\n",
        "    \n",
        "spectrum,freqs,t,im =plt.specgram(l_channel,Fs=sample_freq,vmin=-20,vmax=100)\n",
        "    #spectrum - 2D array, freqs= 1D array of freq, bins = 1D array of time\n",
        "    #and im= image created by imshow function\n",
        "plt.title('Left Channel of Backfire')\n",
        "plt.ylabel('Frequency (Hz)')\n",
        "plt.xlabel('Time (s)')\n",
        "plt.xlim(0, t_audio)\n",
        "plt.colorbar()\n",
        "plt.show()\n",
        "\n",
        "freq_f2=32000\n",
        "# Print times of local maxima\n",
        "peak_times = times[peaks]\n",
        "\n",
        "peak_areas = []\n",
        "for i in range(len(peaks) - 1):\n",
        "    start_idx = peaks[i]\n",
        "    end_idx = peaks[i + 1]\n",
        "    peak_area = np.trapz(l_channel[start_idx:end_idx], x=times[start_idx:end_idx])\n",
        "    peak_areas.append(abs(peak_area))\n",
        "z=[(i,j) for i, j in zip(times[peaks], l_channel[peaks] )]\n",
        "#print('Peaks:', peaks)\n",
        "#print('Peak Times:', peak_times)\n",
        "#print(\"Area between the peaks:\",peak_areas)\n",
        "print(\"Sum of areas between the desired peaks is\",peak_areas[1])\n",
        "print(z) \n",
        "print(\"freq_f2:\",freq_f2)\n"
      ],
      "metadata": {
        "id": "DTsi0gUNc_Je"
      },
      "execution_count": null,
      "outputs": []
    },
    {
      "cell_type": "code",
      "source": [
        "def create_gunshot_wav_file():\n",
        "  audio = AudioSegment.from_file(input_file)\n",
        "  duration=len(audio)\n",
        "  index=0\n",
        "  for i in z:\n",
        "    a=i[0]\n",
        "    b=i[1]\n",
        "    if b>3450:\n",
        "    \n",
        "      sound = AudioSegment.from_wav(input_file)\n",
        "      StrtTime=a*1000-49\n",
        "      if StrtTime <0:\n",
        "        StrtTime=0\n",
        "      else:\n",
        "        StrtTime=StrtTime\n",
        "      EndTime=a*1000+49\n",
        "      if EndTime>duration:\n",
        "        EndTime=duration\n",
        "      else:\n",
        "        EndTime=EndTime\n",
        "      extract = sound[StrtTime:EndTime]\n",
        "      StrtTime=round(StrtTime,2)\n",
        "      EndTime=round(EndTime,2)\n",
        "      time_str = f'Start time: {StrtTime}\\nEnd time: {EndTime}\\n'\n",
        "      with open('time_file.txt', 'a') as file:\n",
        "          file.write(time_str)\n",
        "  \n",
        "\n",
        "\n",
        "#  Saving file in required location\n",
        "      extract.export(input_file[9:-4]+\"(\"+str(index)+\")\"+\".wav\", format=\"wav\")\n",
        "      index+=1\n",
        "  return  \n",
        "      "
      ],
      "metadata": {
        "id": "t_oRWR9Rdd3I"
      },
      "execution_count": null,
      "outputs": []
    }
  ]
}